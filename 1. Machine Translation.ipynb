Open-source machine translation (MT) models enable you to translate between different languages without Google Translate.
Many models have more than 1000 language pairs to the hugging face hub such as:
1. https://huggingface.co/Helsinki-NLP
2. https://huggingface.co/models?search=facebook+m2m
3. https://github.com/UKPLab/EasyNMT
